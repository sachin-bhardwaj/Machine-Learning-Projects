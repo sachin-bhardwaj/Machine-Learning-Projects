{
 "cells": [
  {
   "cell_type": "code",
   "execution_count": 1,
   "metadata": {},
   "outputs": [],
   "source": [
    "import re # for preprocessing\n",
    "import tweepy # for analysing tweets\n",
    "import pickle # for pickling"
   ]
  },
  {
   "cell_type": "code",
   "execution_count": 2,
   "metadata": {},
   "outputs": [],
   "source": [
    "from tweepy import OAuthHandler # oauth will authenticate client machine with twitter server using consumer keys,access tokens "
   ]
  },
  {
   "cell_type": "code",
   "execution_count": 3,
   "metadata": {},
   "outputs": [],
   "source": [
    "#intializing the keys\n",
    "consumer_key ='7bV3zxiL9cwHgfEmZ7rYdnB4H'\n",
    "consumer_secret ='t24Zca5nJI4axEwJ8Hn88niaTNhpjXm2PBobeg5JyjIZXkLlt3'\n",
    "access_secret ='MT3xo8KkLDroE8SGCkS762jwiLdQRPHn1qURlTuxcjnkL'\n",
    "access_token = '857588081809137664-ZRb0HHfeyUpPGniHqKd1ofqvjrPrzWo'\n"
   ]
  },
  {
   "cell_type": "code",
   "execution_count": 81,
   "metadata": {},
   "outputs": [],
   "source": [
    "auth = OAuthHandler(consumer_key,consumer_secret)\n",
    "auth.set_access_token(access_token,access_secret)\n",
    "args =['@INCIndia']\n",
    "api= tweepy.API(auth,timeout=10)"
   ]
  },
  {
   "cell_type": "code",
   "execution_count": 82,
   "metadata": {},
   "outputs": [],
   "source": [
    "list_tweets =[]\n",
    "query =args[0]\n",
    "if len(args)==1:\n",
    "    for status in tweepy.Cursor(api.search,q=query+\" -filter:retweets\",lang='en',result_type = 'recent').items(100):\n",
    "        list_tweets.append(status.text)"
   ]
  },
  {
   "cell_type": "code",
   "execution_count": 83,
   "metadata": {},
   "outputs": [],
   "source": [
    "#list_tweets"
   ]
  },
  {
   "cell_type": "code",
   "execution_count": 84,
   "metadata": {},
   "outputs": [],
   "source": [
    "with open('tfidfmodel.pickle','rb') as f:\n",
    "    vectorizer = pickle.load(f)"
   ]
  },
  {
   "cell_type": "code",
   "execution_count": 85,
   "metadata": {},
   "outputs": [],
   "source": [
    "with open('classifier.pickle','rb') as f:\n",
    "    clf = pickle.load(f)"
   ]
  },
  {
   "cell_type": "code",
   "execution_count": 86,
   "metadata": {},
   "outputs": [
    {
     "data": {
      "text/plain": [
       "array([1])"
      ]
     },
     "execution_count": 86,
     "metadata": {},
     "output_type": "execute_result"
    }
   ],
   "source": [
    "clf.predict(vectorizer.transform(['you are awesome as well as shy']))"
   ]
  },
  {
   "cell_type": "code",
   "execution_count": 87,
   "metadata": {},
   "outputs": [],
   "source": [
    "#preprocess links that appear in tweets"
   ]
  },
  {
   "cell_type": "code",
   "execution_count": 88,
   "metadata": {},
   "outputs": [],
   "source": [
    "total_pos = 0\n",
    "total_neg =0\n",
    "for tweet in list_tweets:\n",
    "    tweet = re.sub(r\"^https://t.co/[a-zA-Z0-9]*\\s\",\" \",tweet)\n",
    "    tweet =re.sub(r\"\\s+https://t.co/[a-zA-Z0-9]*\\s\",\" \",tweet)\n",
    "    tweet =re.sub(r\"\\s+https://t.co/[a-zA-z0-9]*$\",\" \",tweet)\n",
    "    #for lowercase\n",
    "    tweet =tweet.lower()\n",
    "    tweet = re.sub(r\"that's\",\"that is\",tweet)\n",
    "    tweet =re.sub(r\"there's\",\"there is\",tweet)\n",
    "    tweet =re.sub(r\"where's\",\"where is\",tweet)\n",
    "    tweet =re.sub(r\"it's\",\"it is\",tweet)\n",
    "    tweet =re.sub(r\"who's\",\"who is\",tweet)\n",
    "    tweet =re.sub(r\"i'm\",\"i am\",tweet)\n",
    "    tweet =re.sub(r\"she's\",\"she is\",tweet)\n",
    "    tweet =re.sub(r\"he's\",\"he is\",tweet)\n",
    "    tweet =re.sub(r\"they're\",\"they are\",tweet)\n",
    "    tweet =re.sub(r\"who're\",\"who are\",tweet)\n",
    "    tweet =re.sub(r\"ain't\",\"am not\",tweet)\n",
    "    tweet =re.sub(r\"wouldn't\",\"would not\",tweet)\n",
    "    tweet =re.sub(r\"can't\",\"can not\",tweet)\n",
    "    tweet =re.sub(r\"couldn't\",\"could not\",tweet)\n",
    "    tweet =re.sub(r\"won't\",\"will not\",tweet)\n",
    "    # punctuations\n",
    "    tweet =re.sub(r\"\\W\",\" \",tweet)\n",
    "    tweet =re.sub(r\"\\d\",\" \",tweet)\n",
    "    tweet =re.sub(r\"s+[a-z]\\s+\",\" \",tweet)\n",
    "    tweet = re.sub(r\"\\s+[a-z]$\",\" \",tweet)\n",
    "    tweet =re.sub(r\"^[a-z]\\s+\",\" \",tweet)\n",
    "    tweet =re.sub(r\"\\s+\",\" \",tweet)\n",
    "    sent=clf.predict(vectorizer.transform([tweet]).toarray())\n",
    "    if sent[0] ==1:\n",
    "        total_pos+=1\n",
    "    else:\n",
    "        total_neg+=1\n",
    "    #print(tweet,\":\",sent)\n",
    "#plot on graph\n"
   ]
  },
  {
   "cell_type": "code",
   "execution_count": 89,
   "metadata": {},
   "outputs": [],
   "source": [
    "import matplotlib.pyplot as plt"
   ]
  },
  {
   "cell_type": "code",
   "execution_count": 90,
   "metadata": {},
   "outputs": [],
   "source": [
    "import numpy as np"
   ]
  },
  {
   "cell_type": "code",
   "execution_count": 91,
   "metadata": {},
   "outputs": [
    {
     "data": {
      "text/plain": [
       "Text(0.5, 1.0, 'Number of Positive and Negative Tweets')"
      ]
     },
     "execution_count": 91,
     "metadata": {},
     "output_type": "execute_result"
    },
    {
     "data": {
      "image/png": "[encoded data removed]",
      "text/plain": [
       "<Figure size 432x288 with 1 Axes>"
      ]
     },
     "metadata": {
      "needs_background": "light"
     },
     "output_type": "display_data"
    }
   ],
   "source": [
    "objects = ['Positive','Negative']\n",
    "y_pos = np.arange(len(objects))\n",
    "plt.bar(y_pos,[total_pos,total_neg],alpha =0.5)\n",
    "plt.xticks(y_pos,objects)\n",
    "plt.ylabel('Number')\n",
    "plt.title('Number of Positive and Negative Tweets')"
   ]
  },
  {
   "cell_type": "code",
   "execution_count": null,
   "metadata": {},
   "outputs": [],
   "source": []
  }
 ],
 "metadata": {
  "kernelspec": {
   "display_name": "Python 3",
   "language": "python",
   "name": "python3"
  },
  "language_info": {
   "codemirror_mode": {
    "name": "ipython",
    "version": 3
   },
   "file_extension": ".py",
   "mimetype": "text/x-python",
   "name": "python",
   "nbconvert_exporter": "python",
   "pygments_lexer": "ipython3",
   "version": "3.7.1"
  }
 },
 "nbformat": 4,
 "nbformat_minor": 2
}
